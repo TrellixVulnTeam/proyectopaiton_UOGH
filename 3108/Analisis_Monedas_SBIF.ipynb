{
 "cells": [
  {
   "cell_type": "markdown",
   "metadata": {},
   "source": [
    "#DASHBOARD MONEDAS-SBIF-CHILE"
   ]
  },
  {
   "cell_type": "markdown",
   "metadata": {},
   "source": [
    "Instruciones:\n",
    "Esta consulta te permite extraer los valores de las monedas de UF, USD, Euro para un periodo de tiempo que definas, para ello:\n",
    "    1. Selecciona el periodo de inicio utilizando los rangos definidos. Luego, \n",
    "       selecciona el periodo de fin utilizando los rangos definidos.\n",
    "    2. Luego, debes indicar la consulta que requieras ingresando el valor en la consulta "
   ]
  },
  {
   "cell_type": "code",
   "execution_count": 1,
   "metadata": {},
   "outputs": [
    {
     "name": "stdout",
     "output_type": "stream",
     "text": [
      "Año inicio análisis (entre 2001 al 2018): 2001\n",
      "Año fin análisis (entre 2002 al 2019): 2019\n",
      "Los datos ya están cargados\n"
     ]
    }
   ],
   "source": [
    "def carga_monedas(anhio_1, anhio_2):\n",
    "    \n",
    "    import requests\n",
    "    \n",
    "    apikey = \"1dd08e2dda5d54da789a5c9f8289d994d70b8ac0\"\n",
    "    formato = \"json\"\n",
    "    \n",
    "    codigos = open(\"Codigo_Monedas.txt\", \"r\")\n",
    "    datos_monedas = open(\"Datos_Monedas.txt\", \"w\")\n",
    "    \n",
    "    for linea in codigos:\n",
    "        moneda = linea.strip()\n",
    "        consulta_api = requests.get(\"https://api.sbif.cl/api-sbifv3/recursos_api/\"+moneda+\"/periodo/\"+str(anhio_1)+\"/\"+str(anhio_2)+\"?apikey=\"+apikey+\"&formato=\"+formato)\n",
    "        resultado = consulta_api.json()\n",
    "        for cod, valor in resultado.items():\n",
    "            for dato in valor:\n",
    "                datos_monedas.write(moneda)\n",
    "                datos_monedas.write(\";\")\n",
    "                datos_monedas.write(dato[\"Fecha\"])\n",
    "                datos_monedas.write(\";\")\n",
    "                datos_monedas.write(dato[\"Valor\"])\n",
    "                datos_monedas.write(\"\\n\")\n",
    "    \n",
    "    codigos.close()\n",
    "    datos_monedas.close()\n",
    "\n",
    "\n",
    "anhio_1 = int(input(\"Año inicio análisis (entre 2001 al 2018): \"))\n",
    "anhio_2 = int(input(\"Año fin análisis (entre 2002 al 2019): \"))\n",
    "\n",
    "if anhio_1 >= 2001 and anhio_1 <= 2018 and anhio_2 >= 2002 and anhio_2 <= 2019 and anhio_1 < anhio_2:\n",
    "    carga_monedas(anhio_1, anhio_2)\n",
    "    print(\"Los datos ya están cargados\")\n",
    "else:\n",
    "    print(\"La Fecha 1 tiene que ser mayor que la Fecha 2, y dentro de los rangos establecidos\")\n",
    "\n"
   ]
  },
  {
   "cell_type": "code",
   "execution_count": 2,
   "metadata": {},
   "outputs": [
    {
     "name": "stdout",
     "output_type": "stream",
     "text": [
      "Ingrese número del análisis seleccionado:\n",
      "1. Monto y fecha del mayor valor por moneda, dentro del periodo de análisis\n",
      "2. Monto y fecha del menor valor por moneda, dentro del periodo de análisis\n",
      "Alternativa seleccionada: 2\n",
      "El menor valor para la moneda uf dentro del periodo de analisis es 15771.44 que se obtuvo en la fecha: 2001-01-01\n",
      "El menor valor para la moneda dolar dentro del periodo de analisis es 431.22 que se obtuvo en la fecha: 2008-03-19\n",
      "El menor valor para la moneda euro dentro del periodo de analisis es 508.82 que se obtuvo en la fecha: 2001-02-16\n"
     ]
    }
   ],
   "source": [
    "def leer_datos_por_moneda():\n",
    "    \n",
    "    archivo = open(\"Datos_Monedas.txt\", \"r\")\n",
    "    \n",
    "    dato_monedas = {}\n",
    "    \n",
    "    for linea in archivo:\n",
    "        \n",
    "        codigo, fecha, valor = linea.strip().split(\";\")\n",
    "        \n",
    "        valor = valor.replace(\".\",\"\")\n",
    "        valor = valor.replace(\",\",\".\")\n",
    "        \n",
    "        if codigo not in dato_monedas:\n",
    "            dato_monedas[codigo] = []\n",
    "        \n",
    "        dato_monedas[codigo].append([fecha, float(valor)])\n",
    "    \n",
    "    archivo.close()\n",
    "    \n",
    "    return dato_monedas\n",
    "\n",
    "def mayor_dato_moneda():\n",
    "    \n",
    "    datos_monedas = leer_datos_por_moneda()\n",
    "    \n",
    "    for moneda, dato in datos_monedas.items():\n",
    "        fecha_mayor = \"\"\n",
    "        monto_mayor = float(\"-inf\") \n",
    "        \n",
    "        for per, val in dato:\n",
    "            if val > monto_mayor:\n",
    "                fecha_mayor = per\n",
    "                monto_mayor = val \n",
    "                \n",
    "        print(\"El mayor valor para la moneda\", moneda, \"dentro del periodo de analisis es\", monto_mayor, \"que se obtuvo en la fecha:\", fecha_mayor)\n",
    "    \n",
    "def menor_dato_moneda():\n",
    "    \n",
    "    datos_monedas = leer_datos_por_moneda()\n",
    "    \n",
    "    for moneda, dato in datos_monedas.items():\n",
    "        fecha_menor = \"\"\n",
    "        monto_menor = float(\"inf\") \n",
    "        \n",
    "        for per, val in dato:\n",
    "            if val < monto_menor:\n",
    "                fecha_menor = per\n",
    "                monto_menor = val \n",
    "                \n",
    "        print(\"El menor valor para la moneda\", moneda, \"dentro del periodo de analisis es\", monto_menor, \"que se obtuvo en la fecha:\", fecha_menor)\n",
    "    \n",
    "print(\"Ingrese número del análisis seleccionado:\")\n",
    "print(\"1. Monto y fecha del mayor valor por moneda, dentro del periodo de análisis\")\n",
    "print(\"2. Monto y fecha del menor valor por moneda, dentro del periodo de análisis\")\n",
    "\n",
    "alternativa_analisis = int(input(\"Alternativa seleccionada: \"))\n",
    "\n",
    "if alternativa_analisis == 1:\n",
    "    mayor_dato_moneda()\n",
    "elif alternativa_analisis == 2:\n",
    "    menor_dato_moneda()\n",
    "else:\n",
    "    print(\"Debe ingresar una alternativa valida\")\n",
    "\n"
   ]
  },
  {
   "cell_type": "code",
   "execution_count": null,
   "metadata": {},
   "outputs": [],
   "source": []
  }
 ],
 "metadata": {
  "kernelspec": {
   "display_name": "Python 3",
   "language": "python",
   "name": "python3"
  },
  "language_info": {
   "codemirror_mode": {
    "name": "ipython",
    "version": 3
   },
   "file_extension": ".py",
   "mimetype": "text/x-python",
   "name": "python",
   "nbconvert_exporter": "python",
   "pygments_lexer": "ipython3",
   "version": "3.7.4"
  }
 },
 "nbformat": 4,
 "nbformat_minor": 2
}
